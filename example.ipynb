{
 "cells": [
  {
   "cell_type": "code",
   "execution_count": 39,
   "metadata": {},
   "outputs": [
    {
     "name": "stdout",
     "output_type": "stream",
     "text": [
      "The autoreload extension is already loaded. To reload it, use:\n",
      "  %reload_ext autoreload\n"
     ]
    }
   ],
   "source": [
    "import pandas as pd\n",
    "import numpy as np \n",
    "\n",
    "import matplotlib.pyplot as plt\n",
    "\n",
    "%load_ext autoreload\n",
    "%autoreload 2\n",
    "\n",
    "from tqdm import tqdm_notebook\n",
    "\n",
    "from mhrw.mhrw_base import MHRW\n",
    "from mhrw.utils import start_session"
   ]
  },
  {
   "cell_type": "code",
   "execution_count": 35,
   "metadata": {},
   "outputs": [],
   "source": [
    "def degree_cdf(graph_neigh, k_range):\n",
    "    degree_dist = np.zeros_like(k_range)\n",
    "    count = graph_neigh.count()\n",
    "    \n",
    "    for i, k in enumerate(tqdm_notebook(k_range)):\n",
    "        degree_k = graph_neigh.filter(f\"degree <= {k}\").count()\n",
    "        degree_dist[i] = degree_k\n",
    "    \n",
    "    return degree_dist / count\n",
    "\n",
    "def process_fb(path, save_path=None, to_undirected=False, compression=\"UNCOMPRESSED\"):\n",
    "    get_edges = lambda row: row.split()[:2]\n",
    "    head = lambda itr, i: [next(itr) for _ in range(i)]\n",
    "    \n",
    "    with open(path, \"r\") as file:\n",
    "        edge_list = map(get_edges, file)\n",
    "        header = head(edge_list, 2)\n",
    "\n",
    "        df = pd.DataFrame(edge_list, columns=[\"user\", \"item\"]).drop_duplicates()\n",
    "        df = df.astype({\"user\": \"int64\", \"item\": \"int64\"})\n",
    "        \n",
    "        if to_undirected:\n",
    "            df_inv = df.rename(columns={\"user\": \"item\", \"item\": \"user\"})\n",
    "            df = df.append(df_inv)\n",
    "        \n",
    "        if save_path:\n",
    "            df.to_parquet(\"data/fb_edge_list\", index=False, compression=\"UNCOMPRESSED\")\n",
    "    \n",
    "    return df"
   ]
  },
  {
   "cell_type": "markdown",
   "metadata": {},
   "source": [
    "# Network data"
   ]
  },
  {
   "cell_type": "markdown",
   "metadata": {},
   "source": [
    "[Facebook friendship graph](http://networkrepository.com/fb-wosn-friends.php) where nodes are users and edges between the users represent friendship relations/edges. "
   ]
  },
  {
   "cell_type": "code",
   "execution_count": 29,
   "metadata": {},
   "outputs": [
    {
     "name": "stdout",
     "output_type": "stream",
     "text": [
      "CPU times: user 4.93 s, sys: 557 ms, total: 5.49 s\n",
      "Wall time: 7.24 s\n"
     ]
    }
   ],
   "source": [
    "%%time\n",
    "df = process_fb(\"data/fb-wosn-friends.edges\", \"data/fb_edge_list\")"
   ]
  },
  {
   "cell_type": "markdown",
   "metadata": {},
   "source": [
    "# Sampling"
   ]
  },
  {
   "cell_type": "code",
   "execution_count": 3,
   "metadata": {},
   "outputs": [],
   "source": [
    "spark, sc = start_session(\"test_sample\")\n",
    "\n",
    "import pyspark.sql.functions as F"
   ]
  },
  {
   "cell_type": "code",
   "execution_count": 4,
   "metadata": {},
   "outputs": [],
   "source": [
    "graph = spark.read.parquet(\"data/fb_edge_list\")"
   ]
  },
  {
   "cell_type": "code",
   "execution_count": 5,
   "metadata": {},
   "outputs": [],
   "source": [
    "graph_neig = graph.groupBy(\"user\").agg(F.collect_list(\"item\").alias(\"neigh\"))"
   ]
  },
  {
   "cell_type": "code",
   "execution_count": 9,
   "metadata": {},
   "outputs": [
    {
     "name": "stderr",
     "output_type": "stream",
     "text": [
      "INFO - 2019-09-15 17:40:08: sampled 1316 seed nodes, budget: 4509\n",
      "INFO - 2019-09-15 17:40:29: iteration 1, sampled 2216 nodes, progress: 49.15%\n",
      "INFO - 2019-09-15 17:41:01: iteration 2, sampled 2906 nodes, progress: 64.45%\n",
      "INFO - 2019-09-15 17:41:58: iteration 3, sampled 3385 nodes, progress: 75.07%\n",
      "INFO - 2019-09-15 17:42:46: iteration 4, sampled 3718 nodes, progress: 82.46%\n",
      "INFO - 2019-09-15 17:43:47: iteration 5, sampled 3945 nodes, progress: 87.49%\n",
      "INFO - 2019-09-15 17:44:51: iteration 6, sampled 4103 nodes, progress: 91.0%\n",
      "INFO - 2019-09-15 17:45:51: iteration 7, sampled 4201 nodes, progress: 93.17%\n",
      "INFO - 2019-09-15 17:46:57: iteration 8, sampled 4267 nodes, progress: 94.63%\n",
      "WARNING - 2019-09-15 17:48:20: gain lower than 1 percent, stop sampling!\n"
     ]
    }
   ],
   "source": [
    "MHRW(graph_neig, \"data/sampled_ids\", seed_ratio=0.03, accept_func=\"RCMH\", alpha=0.3)"
   ]
  },
  {
   "cell_type": "markdown",
   "metadata": {},
   "source": [
    "# Node Degree Distribution "
   ]
  },
  {
   "cell_type": "code",
   "execution_count": 55,
   "metadata": {},
   "outputs": [],
   "source": [
    "from mhrw.utils import arr_len\n",
    "from mhrw.utils import graph_filter_ids"
   ]
  },
  {
   "cell_type": "code",
   "execution_count": 46,
   "metadata": {},
   "outputs": [],
   "source": [
    "k_range = np.arange(1, 80, 2.5)"
   ]
  },
  {
   "cell_type": "code",
   "execution_count": 50,
   "metadata": {},
   "outputs": [],
   "source": [
    "graph_neig = graph_neig.withColumn(\"degree\", arr_len(\"neigh\"))\n",
    "graph_random = graph_neig.sample(False, 0.1, seed=42)"
   ]
  },
  {
   "cell_type": "code",
   "execution_count": 59,
   "metadata": {},
   "outputs": [],
   "source": [
    "sampled_ids = spark.read.parquet(\"data/sampled_ids\").distinct().withColumnRenamed(\"user\", \"user_id\")\n",
    "graph_mhrw = graph_filter_ids(graph, sampled_ids)\n",
    "\n",
    "graph_mhrw = (graph_mhrw\n",
    "              .groupBy(\"user\")\n",
    "              .agg(F.collect_list(\"item\").alias(\"neigh\"))\n",
    "              .withColumn(\"degree\", arr_len(\"neigh\"))).persist()"
   ]
  },
  {
   "cell_type": "code",
   "execution_count": 60,
   "metadata": {},
   "outputs": [
    {
     "data": {
      "application/vnd.jupyter.widget-view+json": {
       "model_id": "214e398f7e9949e493c9ddeb2c524070",
       "version_major": 2,
       "version_minor": 0
      },
      "text/plain": [
       "HBox(children=(IntProgress(value=0, max=32), HTML(value='')))"
      ]
     },
     "metadata": {},
     "output_type": "display_data"
    },
    {
     "name": "stdout",
     "output_type": "stream",
     "text": [
      "\n"
     ]
    },
    {
     "data": {
      "application/vnd.jupyter.widget-view+json": {
       "model_id": "1674258b90664e348fced88f3652d701",
       "version_major": 2,
       "version_minor": 0
      },
      "text/plain": [
       "HBox(children=(IntProgress(value=0, max=32), HTML(value='')))"
      ]
     },
     "metadata": {},
     "output_type": "display_data"
    },
    {
     "name": "stdout",
     "output_type": "stream",
     "text": [
      "\n"
     ]
    },
    {
     "data": {
      "application/vnd.jupyter.widget-view+json": {
       "model_id": "c000ed902c044503a14dd41eef0d225c",
       "version_major": 2,
       "version_minor": 0
      },
      "text/plain": [
       "HBox(children=(IntProgress(value=0, max=32), HTML(value='')))"
      ]
     },
     "metadata": {},
     "output_type": "display_data"
    },
    {
     "name": "stdout",
     "output_type": "stream",
     "text": [
      "\n"
     ]
    }
   ],
   "source": [
    "base_ndd = degree_cdf(graph_neig, k_range)\n",
    "random_ndd = degree_cdf(graph_random, k_range)\n",
    "mhrw_ndd = degree_cdf(graph_mhrw, k_range)"
   ]
  },
  {
   "cell_type": "code",
   "execution_count": 63,
   "metadata": {},
   "outputs": [
    {
     "data": {
      "image/png": "[encoded data removed]",
      "text/plain": [
       "<Figure size 864x576 with 1 Axes>"
      ]
     },
     "metadata": {
      "needs_background": "light"
     },
     "output_type": "display_data"
    }
   ],
   "source": [
    "plt.figure(figsize=(12, 8))\n",
    "plt.plot(k_range, base_ndd, marker='o', color=\"red\", label=\"base\");\n",
    "plt.plot(k_range, random_ndd, marker='o', color=\"green\", label=\"random\");\n",
    "plt.plot(k_range, mhrw_ndd, marker='o', color=\"blue\", label=\"mhrw\");\n",
    "plt.legend();"
   ]
  }
 ],
 "metadata": {
  "kernelspec": {
   "display_name": "Python 3",
   "language": "python",
   "name": "python3"
  },
  "language_info": {
   "codemirror_mode": {
    "name": "ipython",
    "version": 3
   },
   "file_extension": ".py",
   "mimetype": "text/x-python",
   "name": "python",
   "nbconvert_exporter": "python",
   "pygments_lexer": "ipython3",
   "version": "3.6.5"
  }
 },
 "nbformat": 4,
 "nbformat_minor": 2
}
