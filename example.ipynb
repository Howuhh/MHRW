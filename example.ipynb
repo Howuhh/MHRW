{
 "cells": [
  {
   "cell_type": "code",
   "execution_count": 32,
   "metadata": {},
   "outputs": [
    {
     "name": "stdout",
     "output_type": "stream",
     "text": [
      "The autoreload extension is already loaded. To reload it, use:\n",
      "  %reload_ext autoreload\n"
     ]
    }
   ],
   "source": [
    "import pandas as pd\n",
    "import numpy as np \n",
    "\n",
    "import matplotlib.pyplot as plt\n",
    "\n",
    "%load_ext autoreload\n",
    "%autoreload 2\n",
    "\n",
    "from tqdm import tqdm_notebook\n",
    "\n",
    "from mhrw import MHRWSampler\n",
    "from mhrw.utils import start_session"
   ]
  },
  {
   "cell_type": "code",
   "execution_count": 16,
   "metadata": {},
   "outputs": [],
   "source": [
    "def degree_cdf(graph_neigh, k_range):\n",
    "    degree_dist = np.zeros_like(k_range)\n",
    "    count = graph_neigh.count()\n",
    "    \n",
    "    for i, k in enumerate(tqdm_notebook(k_range)):\n",
    "        degree_k = graph_neigh.filter(f\"degree <= {k}\").count()\n",
    "        degree_dist[i] = degree_k\n",
    "    \n",
    "    return degree_dist / count\n",
    "\n",
    "def process_fb(path, save_path=None, to_undirected=False, compression=\"UNCOMPRESSED\"):\n",
    "    get_edges = lambda row: row.split()[:2]\n",
    "    head = lambda itr, i: [next(itr) for _ in range(i)]\n",
    "    \n",
    "    with open(path, \"r\") as file:\n",
    "        edge_list = map(get_edges, file)\n",
    "        header = head(edge_list, 2)\n",
    "\n",
    "        df = pd.DataFrame(edge_list, columns=[\"user\", \"item\"]).drop_duplicates()\n",
    "        df = df.astype({\"user\": \"int64\", \"item\": \"int64\"})\n",
    "        \n",
    "        if to_undirected:\n",
    "            df_inv = df.rename(columns={\"user\": \"item\", \"item\": \"user\"})\n",
    "            df = df.append(df_inv)\n",
    "        \n",
    "        if save_path:\n",
    "            df.to_parquet(\"data/fb_edge_list\", index=False, compression=compression)\n",
    "    \n",
    "    return df"
   ]
  },
  {
   "cell_type": "markdown",
   "metadata": {},
   "source": [
    "# Network data"
   ]
  },
  {
   "cell_type": "markdown",
   "metadata": {},
   "source": [
    "[Facebook friendship graph](http://networkrepository.com/fb-wosn-friends.php) where nodes are users and edges between the users represent friendship relations/edges. "
   ]
  },
  {
   "cell_type": "code",
   "execution_count": 29,
   "metadata": {},
   "outputs": [
    {
     "name": "stdout",
     "output_type": "stream",
     "text": [
      "CPU times: user 4.93 s, sys: 557 ms, total: 5.49 s\n",
      "Wall time: 7.24 s\n"
     ]
    }
   ],
   "source": [
    "%%time\n",
    "df = process_fb(\"data/fb-wosn-friends.edges\", \"data/fb_edge_list\")"
   ]
  },
  {
   "cell_type": "markdown",
   "metadata": {},
   "source": [
    "# Sampling"
   ]
  },
  {
   "cell_type": "code",
   "execution_count": 23,
   "metadata": {},
   "outputs": [],
   "source": [
    "spark, sc = start_session(\"test_sample\")\n",
    "\n",
    "import pyspark.sql.functions as F"
   ]
  },
  {
   "cell_type": "code",
   "execution_count": 24,
   "metadata": {},
   "outputs": [],
   "source": [
    "graph = spark.read.parquet(\"data/fb_edge_list\")"
   ]
  },
  {
   "cell_type": "code",
   "execution_count": 27,
   "metadata": {},
   "outputs": [],
   "source": [
    "sampler = MHRWSampler(spark, ids_path=\"tmp\",seed_ratio=0.08, method=\"RCMH\", alpha=0.3)"
   ]
  },
  {
   "cell_type": "code",
   "execution_count": 36,
   "metadata": {
    "scrolled": true
   },
   "outputs": [
    {
     "name": "stderr",
     "output_type": "stream",
     "text": [
      "INFO - 2019-09-16 22:27:11: sampled 3565 seed nodes, budget: 4509\n",
      "INFO - 2019-09-16 22:27:29: iteration 1, sampled 6027 nodes, progress: 133.67%\n",
      "INFO - 2019-09-16 22:27:29: the budget has been spent! stop sampling\n"
     ]
    },
    {
     "data": {
      "text/plain": [
       "<mhrw.mhrw_sampler.MHRWSampler at 0x10dba9f28>"
      ]
     },
     "execution_count": 36,
     "metadata": {},
     "output_type": "execute_result"
    }
   ],
   "source": [
    "sampler.fit(graph)"
   ]
  },
  {
   "cell_type": "code",
   "execution_count": 53,
   "metadata": {},
   "outputs": [],
   "source": [
    "sampled_graph = sampler.transform(graph)"
   ]
  },
  {
   "cell_type": "code",
   "execution_count": 54,
   "metadata": {},
   "outputs": [
    {
     "name": "stdout",
     "output_type": "stream",
     "text": [
      "full graph: 817090 edges\n",
      "sampled graph: 15808 edges\n"
     ]
    }
   ],
   "source": [
    "print(f\"full graph: {graph.count()} edges\")\n",
    "print(f\"sampled graph: {sampled_graph.count()} edges\")"
   ]
  },
  {
   "cell_type": "markdown",
   "metadata": {},
   "source": [
    "# Node Degree Distribution "
   ]
  },
  {
   "cell_type": "code",
   "execution_count": 52,
   "metadata": {},
   "outputs": [],
   "source": [
    "def get_neigs(df):\n",
    "    return (df\n",
    "            .groupBy(\"user\")\n",
    "            .agg(F.collect_list(\"item\").alias(\"neigh\"))\n",
    "            .withColumn(\"degree\", arr_len(\"neigh\")))"
   ]
  },
  {
   "cell_type": "code",
   "execution_count": 47,
   "metadata": {},
   "outputs": [],
   "source": [
    "from mhrw.utils import arr_len\n",
    "from mhrw.utils import graph_filter_ids"
   ]
  },
  {
   "cell_type": "code",
   "execution_count": 48,
   "metadata": {},
   "outputs": [],
   "source": [
    "k_range = np.arange(1, 80, 2.5)"
   ]
  },
  {
   "cell_type": "code",
   "execution_count": 55,
   "metadata": {},
   "outputs": [],
   "source": [
    "graph_neig = get_neigs(graph)\n",
    "graph_random = graph_neig.sample(False, 0.1, seed=42)\n",
    "graph_mhrw = get_neigs(sampled_graph)"
   ]
  },
  {
   "cell_type": "code",
   "execution_count": 56,
   "metadata": {},
   "outputs": [
    {
     "data": {
      "application/vnd.jupyter.widget-view+json": {
       "model_id": "500708aa2d4b45789fcb224a0d2e330c",
       "version_major": 2,
       "version_minor": 0
      },
      "text/plain": [
       "HBox(children=(IntProgress(value=0, max=32), HTML(value='')))"
      ]
     },
     "metadata": {},
     "output_type": "display_data"
    },
    {
     "name": "stdout",
     "output_type": "stream",
     "text": [
      "\n"
     ]
    },
    {
     "data": {
      "application/vnd.jupyter.widget-view+json": {
       "model_id": "c310c4cdd8fc4c368c409bac8bf862a6",
       "version_major": 2,
       "version_minor": 0
      },
      "text/plain": [
       "HBox(children=(IntProgress(value=0, max=32), HTML(value='')))"
      ]
     },
     "metadata": {},
     "output_type": "display_data"
    },
    {
     "name": "stdout",
     "output_type": "stream",
     "text": [
      "\n"
     ]
    },
    {
     "data": {
      "application/vnd.jupyter.widget-view+json": {
       "model_id": "3dfe1f1aa4af48e5bf822ad897cba233",
       "version_major": 2,
       "version_minor": 0
      },
      "text/plain": [
       "HBox(children=(IntProgress(value=0, max=32), HTML(value='')))"
      ]
     },
     "metadata": {},
     "output_type": "display_data"
    },
    {
     "name": "stdout",
     "output_type": "stream",
     "text": [
      "\n"
     ]
    }
   ],
   "source": [
    "base_ndd = degree_cdf(graph_neig, k_range)\n",
    "random_ndd = degree_cdf(graph_random, k_range)\n",
    "mhrw_ndd = degree_cdf(graph_mhrw, k_range)"
   ]
  },
  {
   "cell_type": "code",
   "execution_count": 57,
   "metadata": {},
   "outputs": [
    {
     "data": {
      "image/png": "[encoded data removed]",
      "text/plain": [
       "<Figure size 864x576 with 1 Axes>"
      ]
     },
     "metadata": {
      "needs_background": "light"
     },
     "output_type": "display_data"
    }
   ],
   "source": [
    "plt.figure(figsize=(12, 8))\n",
    "plt.plot(k_range, base_ndd, marker='o', color=\"red\", label=\"base\");\n",
    "plt.plot(k_range, random_ndd, marker='o', color=\"green\", label=\"random\");\n",
    "plt.plot(k_range, mhrw_ndd, marker='o', color=\"blue\", label=\"mhrw\");\n",
    "plt.legend();"
   ]
  },
  {
   "cell_type": "code",
   "execution_count": 58,
   "metadata": {},
   "outputs": [
    {
     "data": {
      "text/plain": [
       "'tmp'"
      ]
     },
     "execution_count": 58,
     "metadata": {},
     "output_type": "execute_result"
    }
   ],
   "source": [
    "sampler.clear_ids()"
   ]
  }
 ],
 "metadata": {
  "kernelspec": {
   "display_name": "Python 3",
   "language": "python",
   "name": "python3"
  },
  "language_info": {
   "codemirror_mode": {
    "name": "ipython",
    "version": 3
   },
   "file_extension": ".py",
   "mimetype": "text/x-python",
   "name": "python",
   "nbconvert_exporter": "python",
   "pygments_lexer": "ipython3",
   "version": "3.6.5"
  }
 },
 "nbformat": 4,
 "nbformat_minor": 2
}
